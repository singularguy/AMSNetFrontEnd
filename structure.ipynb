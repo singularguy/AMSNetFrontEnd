{
 "cells": [
  {
   "cell_type": "code",
   "execution_count": null,
   "metadata": {},
   "outputs": [],
   "source": [
    "import os\n",
    "\n",
    "def generate_directory_tree(start_path, prefix=''):\n",
    "    \"\"\"\n",
    "    生成目录树的文本结构\n",
    "    :param start_path: 起始目录路径\n",
    "    :param prefix: 用于构建树形结构的连接符\n",
    "    \"\"\"\n",
    "    # 获取排序后的目录内容（忽略隐藏文件）\n",
    "    entries = sorted([entry for entry in os.listdir(start_path) if not entry.startswith('.')])\n",
    "    \n",
    "    for index, entry in enumerate(entries):\n",
    "        full_path = os.path.join(start_path, entry)\n",
    "        is_last = index == len(entries) - 1\n",
    "        \n",
    "        # 当前条目连接符号\n",
    "        connector = '└── ' if is_last else '├── '\n",
    "        print(f\"{prefix}{connector}{entry}\")\n",
    "        \n",
    "        if os.path.isdir(full_path):\n",
    "            # 递归处理子目录\n",
    "            new_prefix = prefix + ('    ' if is_last else '│   ')\n",
    "            generate_directory_tree(full_path, new_prefix)\n",
    "\n",
    "if __name__ == '__main__':\n",
    "    current_dir = os.getcwd()\n",
    "    print(f\"目录树结构：{os.path.abspath(current_dir)}\")\n",
    "    generate_directory_tree(current_dir)"
   ]
  }
 ],
 "metadata": {
  "kernelspec": {
   "display_name": "pytorch",
   "language": "python",
   "name": "python3"
  },
  "language_info": {
   "name": "python",
   "version": "3.8.20"
  }
 },
 "nbformat": 4,
 "nbformat_minor": 2
}
